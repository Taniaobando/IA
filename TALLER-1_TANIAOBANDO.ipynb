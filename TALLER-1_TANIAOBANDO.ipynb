{
 "cells": [
  {
   "cell_type": "markdown",
   "metadata": {},
   "source": [
    "<h1>Curso de Sistemas Inteligentes</h1>\n",
    "<h2>Práctica de Algoritmos Genéticos</h2>\n",
    "<h2>Periodo 2020-1</h2>\n",
    "\n",
    "A continuación se propone una plantilla para la implementación de un algoritmo genético genérico. En esta práctica deberá completarse este código para resolver una tarea específica. Primero se definen las funciones auxiliares genéricas, luego las funciones que se deben reescribir para una tarea particular y al final está el programa principal.\n",
    "Se supone que el individuo es una lista, su longitud depende del problema particular.\n",
    "    <BR>\n",
    "    <BR>\n",
    "\n",
    "<h1>Desarrollo del taller</h1>\n",
    "\n",
    "<h4>Elaborado por: Tania C. Obando Suárez</h4>\n",
    "<BR>\n",
    "<h3> 2.\tLas funciones del documento base que requirieron cambios o modificaciones son:</h3>\n",
    "    <BR>\n",
    "    <ul>newInd(): Función que crea individuos aleatoriamente</ul>\n",
    "    <ul>fitness(ind): Función que establece la aptitud de cada individuo con respecto a el menor tiempo\n",
    "       que toma el individuo en ejecutar todas las operaciones teniendo en cuenta, que no se puede ejecutar la segunda operación de una tarea si la primera no se ha completado.</ul>\n",
    "    <ul>ruleta(): Esta función reemplaza el algoritmo de selección implementado en el código base. A diferencia de el algoritmo de selección ruleta da una probabilidad más alta de escoger los individuos de mejor aptitud sin embargo el algoritmo también es aleatorio.</ul>\n",
    "    <BR>\n",
    "<ul><h4>La función fitness tiene dos operaciones auxiliares: penalización y organizarDic</h4></ul>\n",
    "    <BR>\n",
    "<ul>penalización(): cuenta el número de fallos que tiene un individuo por ejecutar una operación de una tarea cuando la anterior operación de esa tarea no se ha completado.</ul>\n",
    "<ul>organizarDic(): organiza el diccionario en el orden de las operaciones con el fin de que la función penalización pueda realizarse de manera más sencilla.</ul>\n",
    "    <BR>\n",
    "<h3>3.\tLa estructura del individuo esta definida de la siguiente manera:</h3>\n",
    "Es un arreglo de números generados aleatoriamente entre 1 y el número de máquinas, el tamaño del arreglo esta dado por el total de operaciones que vayan a realizar las diferentes tareas. En la siguiente tabla se muestra un ejemplo:\n",
    "\t<BR>\n",
    "<img src=\"individuo.png\">        \n",
    "    <BR>\n",
    "<h3>5. Mejor resultado obtenido en 10 ejecuciones</h3>\n",
    "    <BR>\n",
    " Los mejores resultados despues de ejecutar 10 veces el algoritmo genetico, se puden medir con la mayor aptitud de un individuo particular perteneciente a su generación. Sin embargo, promediando las respuestas se tiene que, la mayoria de generaciones tenian un fitness de 0.6395 en algunas pocas ejecuciones el individuo mas apto estaba por debajo de este valor pero nunca hubo uno por encima.\n",
    "     \n",
    "   <BR>\n",
    "   <BR>\n",
    "\n",
    "<h3>6. Variaciones en los parametros de entrada</h3>\n",
    "    <BR>\n",
    "    <BR>\n",
    "Al alterar el número de generaciones que realizara el algoritmo se tienen individuos con mas y menos capacidad, si se aumenta el número de generaciones se obtienen finalmente individuos más aptos si por lo contrario se reduce se obtienen individuos menos aptos. La relación entre el número de generaciones que realiza el algoritmo y la aptitud de los individuos resultantes es directamnete proporcional.\n",
    "    <BR>   \n",
    "    <BR>\n",
    "Al alterar la variable de probabilidad de mutación no se obtiene un cambio significativo sin embargo, cuando se toma este como sero si se reduce en mas un menos 0.1 la aptitud de los individuos resultantes en otros casos si se aumenta o disminuye sin llegar a tomar el valor 0 no afecta casi en los individuos resultantes.\n",
    "    <BR>\n",
    "    <BR>\n",
    "Al alterar el número de individuos por generación se generan cambios más grandes que cuando se modifica el número de generaciones que realiza el algoritmo. Cuando el número de individuos por generación es muy pequeño los individuos con mayor aptitud rondan un fitness de 0,21 teniendo en cuenta, que 0 es la peor aptitud y que 1 es la mejor, 0,21 no se considera un buen resultado ahora bien, si se aumenta el número de individuos por generación aumenta el fitneess pero despues de cierto valor en lugar de aumentar tiende a estabilizarse. En este caso se empieza a estabilizar después de 50 individuos por  generación.      \n",
    "  <BR>\n",
    "  <BR>\n",
    "<h3>7. Cambio del algoritmo de selección por ruleta</h3>\n",
    "      <BR>\n",
    "El algoritmo de ruleta es un poco más lento que el de selección, sin embargo el de ruleta se acerca mucho más a la respuesta pues su escogencia no es puramente aleatoria ya que tiene una probabilidad mayor de escoger los individuos con mejor aptitud pertenecientes a cada generación.\n",
    "\n",
    "Lo anterior se puede evidenciar en la diferencia entre el fitness de un individuo que se ejecuta con ruleta y se ejecuta con selección:\n",
    "        <BR>\n",
    "        <BR>\n",
    " <ul>Mejor fitness con ruleta: 0.6395</ul>\n",
    " <ul>Mejor fitness con selección: 0.6299</ul>\n",
    "        \n",
    "\n",
    "\n",
    "\n",
    "\n",
    "\n"
   ]
  },
  {
   "cell_type": "code",
   "execution_count": 119,
   "metadata": {},
   "outputs": [],
   "source": [
    "INF=float('inf')\n",
    "OperDTareas=[11,12,13,21,22,31,32,33]\n",
    "NUMM=3\n",
    "NUMTOP=8\n",
    "TIMEXMACHINE=[[10,8,INF], [INF,12,INF],[4,6,5],[11,18,INF],[20,INF,INF],[INF,12,16],[7,12,4],[14,11,9]]\n",
    "\n"
   ]
  },
  {
   "cell_type": "code",
   "execution_count": 120,
   "metadata": {},
   "outputs": [],
   "source": [
    "import random\n",
    "#Función de seleccion con el metodo ruleta\n",
    "# Elige con base en dos números aleatorios \n",
    "\n",
    "def ruleta(generacion):\n",
    "    aptitudInd= [fitness(i) for i in generacion] \n",
    "    tope=sum(aptitudInd)\n",
    "    tGen=len(generacion)\n",
    "    lista=[]\n",
    "    \n",
    "    for j in range(2):\n",
    "        numA=random.uniform(0,tope)\n",
    "        acum=0\n",
    "        i=1\n",
    "        nInd=0\n",
    "        while i < tGen:\n",
    "            if acum<numA:\n",
    "                acum=acum+aptitudInd[i]\n",
    "                i=i+1\n",
    "            else:\n",
    "                nInd=i\n",
    "                i=tGen+1\n",
    "        lista.append(nInd)\n",
    "    \n",
    "    return (generacion[lista[0]],generacion[lista[1]])\n",
    "\n",
    "\n",
    "        "
   ]
  },
  {
   "cell_type": "code",
   "execution_count": 121,
   "metadata": {},
   "outputs": [],
   "source": [
    "import random\n",
    "\n",
    "# Función de selección\n",
    "# Elige dos individuos aleatoriamente que van a ser cruzados\n",
    "# generacion: lista de individuos que componen la generacion actual\n",
    "# Retorna las posiciones de dos individuos en la generacion\n",
    "def seleccion(generacion):\n",
    "    tGen = len(generacion)\n",
    "    ind1 = random.randint(1, tGen-2)\n",
    "    ind2 = ind1\n",
    "    while ind1 == ind2:\n",
    "        ind2 = random.randint(1,tGen-2)\n",
    "    return (generacion[ind1], generacion[ind2])\n",
    "\n",
    "#gen = [[1,2, 3],[4, 5, 6],[7, 8, 9],[10, 11, 12],[13, 14, 15],[16, 17, 18],[19, 20, 21],[22, 23, 24]]\n",
    "#a,b = seleccion(gen)\n",
    "#print(a)\n",
    "#print(b)\n"
   ]
  },
  {
   "cell_type": "code",
   "execution_count": 122,
   "metadata": {},
   "outputs": [],
   "source": [
    "# Funcion de descarte de los individuos menos aptos\n",
    "# generacion: lista de individuos que componen la generacion actual\n",
    "# Retorna la generacion despues de eliminar la mitad menos apta\n",
    "def descarte(generacion):\n",
    "    tGen = len(generacion)\n",
    "    return (generacion[:tGen//2])\n",
    "\n",
    "#descarte(gen)"
   ]
  },
  {
   "cell_type": "code",
   "execution_count": 123,
   "metadata": {},
   "outputs": [],
   "source": [
    "# Funcion de cruce\n",
    "# Precondicion: ambos individuos tienen la misma longitud\n",
    "# ind1 e ind2 son individuos de la generacion actual\n",
    "#Retorna dos nuevos individuos obtenidos a partir de ind1 e ind2 por cruce\n",
    "def cruce(ind1,ind2):\n",
    "    \n",
    "    tInd = len(ind1)\n",
    "    pivot = random.randint(1,tInd-1)\n",
    "    new1 = ind1[:pivot] + ind2[pivot:]\n",
    "    new2 = ind2[:pivot] + ind1[pivot:]\n",
    "    return (new1, new2)\n",
    "\n",
    "#cruce(individuo1,individuo2)"
   ]
  },
  {
   "cell_type": "code",
   "execution_count": 124,
   "metadata": {},
   "outputs": [],
   "source": [
    "# Funcion de mutacion\n",
    "# ind es un individuo de la generacion actual\n",
    "# prob es un valor entre 0 y 1 que corresponde a la probabilidad de mutacion\n",
    "# Retorna un individuo que puede ser identico al que entró o puede tener un cambio aleatorio en una posicion\n",
    "def mutacion(ind, prob):\n",
    "    p = random.randint(1,100)\n",
    "    if p < prob*100: \n",
    "        tInd = len(ind)\n",
    "        q = random.randint(0,tInd-1)\n",
    "        ind[q] = random.randint(1,NUMM) # esto se debe ajustar de acuerdo a los valores adecuados para el individuo\n",
    "    return (ind)\n",
    "\n",
    "#individuo=newInd()\n",
    "#mutacion(individuo,0.9)"
   ]
  },
  {
   "cell_type": "code",
   "execution_count": 127,
   "metadata": {},
   "outputs": [],
   "source": [
    "# Funcion newInd\n",
    "# Genera un nuevo individuo aleatorio\n",
    "# Retorna el individuo construido\n",
    "# Esta funcion debe ajustarse en terminos de la tarea que se vaya a resolver, pues la forma y longitud del individuo varian\n",
    "import random\n",
    "\n",
    "def newInd():\n",
    "    ind = []\n",
    "    for i in range(NUMTOP):\n",
    "        ind.append(random.randint(1,NUMM))\n",
    "    return ind\n",
    "\n",
    "\n",
    "#newInd()"
   ]
  },
  {
   "cell_type": "code",
   "execution_count": 175,
   "metadata": {},
   "outputs": [
    {
     "data": {
      "text/plain": [
       "[[2, 3, 2, 2, 2, 1, 2, 3],\n",
       " [1, 1, 3, 2, 2, 1, 2, 2],\n",
       " [3, 2, 1, 3, 1, 3, 3, 3],\n",
       " [2, 2, 3, 2, 1, 3, 3, 2],\n",
       " [1, 1, 3, 1, 1, 1, 1, 1],\n",
       " [3, 3, 3, 2, 3, 3, 1, 3],\n",
       " [3, 1, 3, 1, 2, 1, 2, 1],\n",
       " [2, 2, 3, 2, 2, 3, 2, 1],\n",
       " [1, 1, 3, 1, 3, 1, 3, 2],\n",
       " [1, 3, 2, 3, 3, 3, 3, 2]]"
      ]
     },
     "execution_count": 175,
     "metadata": {},
     "output_type": "execute_result"
    }
   ],
   "source": [
    "# Funcion primeraGen\n",
    "# nIndGen: numero de individuos por generacion\n",
    "# Retorna la primera generacion poblada con el numero de individuos requeridos\n",
    "# Esta funcion depende completamente del problema que se va a resolver, pues el individuo depende del problema\n",
    "def primeraGen(nIndGen):\n",
    "    generacion = []\n",
    "    while len(generacion) < nIndGen:\n",
    "        generacion.append(newInd())\n",
    "    return generacion\n",
    "\n",
    "primeraGen(10)"
   ]
  },
  {
   "cell_type": "code",
   "execution_count": 129,
   "metadata": {},
   "outputs": [],
   "source": [
    "def organizarDic(dic): # Funcion que me organiza el diccionario\n",
    "    aux = []\n",
    "    for i in dic:\n",
    "        for j in dic[i]:\n",
    "            aux.append(j)\n",
    "    aux=sorted(aux, key = lambda x: x[2])\n",
    "    return aux"
   ]
  },
  {
   "cell_type": "code",
   "execution_count": 130,
   "metadata": {},
   "outputs": [],
   "source": [
    "def penalizar(dicOrd): # función que castiga las maquinas\n",
    "    ans=0\n",
    "    N = len(dicOrd)\n",
    "    i=0\n",
    "    j=1\n",
    "    while(i<N and j < N):\n",
    "        if(dicOrd[i][2][0] == dicOrd[j][2][0]):\n",
    "            if(dicOrd[i][1] >= dicOrd[j][0]):\n",
    "                ans = ans + 1\n",
    "        i = i + 1\n",
    "        j = j + 1\n",
    "    return ans"
   ]
  },
  {
   "cell_type": "code",
   "execution_count": 172,
   "metadata": {},
   "outputs": [],
   "source": [
    "# Funcion fitness \n",
    "\n",
    "from math import isnan\n",
    "\n",
    "def fitness(ind):\n",
    "     #(parametrizar despues)arreglo auxiliar que me indica las opraciones a que tareas pertenecen \n",
    "    score=0\n",
    "    nOp=len(ind) #numero total de opraciones\n",
    "    diccionario={} # diccionario de maquinas con sus respectivos tiempos\n",
    "    \n",
    "    acumMaq=[0 for i in range(NUMM)]# tiene los tiempos de inicio de cada maquina para cada tupla\n",
    "    lista=[0 for _ in range(NUMM)]#saca el total del tiempo acumulado de cada maquina\n",
    "    \n",
    "    for i in range(nOp):\n",
    "        lista[ind[i]-1]=lista[ind[i]-1]+TIMEXMACHINE[i][ind[i]-1]#acumula los tiempos totales de cada maquina\n",
    "            \n",
    "        if 'M'+str(ind[i]) in diccionario:\n",
    "            diccionario['M'+str(ind[i])].append((acumMaq[ind[i] - 1],lista[ind[i]-1],str(OperDTareas[i])))\n",
    "            acumMaq[ind[i]-1]= lista[ind[i]-1]+1\n",
    "            \n",
    "        else:\n",
    "            diccionario[\"M\"+str(ind[i])]= [(0,TIMEXMACHINE[i][ind[i]-1],str(OperDTareas[i]))]\n",
    "            acumMaq[ind[i]-1]=TIMEXMACHINE[i][ind[i]-1]+1\n",
    "    \n",
    "    dicORD = organizarDic(diccionario)\n",
    "    maxi=max(lista)\n",
    "    score=maxi/sum(lista)\n",
    "    if isnan(score): \n",
    "        score=0 #entre menos score mas malo es el individuo \n",
    "    else:\n",
    "        n=penalizar(dicORD)\n",
    "        score=(1-score)-0.1*n\n",
    "             \n",
    "    return score\n",
    "\n"
   ]
  },
  {
   "cell_type": "code",
   "execution_count": 212,
   "metadata": {},
   "outputs": [
    {
     "name": "stdout",
     "output_type": "stream",
     "text": [
      "[0.6395348837209303, 0.6395348837209303, 0.6395348837209303, 0.6395348837209303, 0.6395348837209303, 0.6395348837209303, 0.6395348837209303, 0.6395348837209303, 0.6395348837209303, 0.6395348837209303, 0.6395348837209303, 0.6395348837209303, 0.6395348837209303, 0.6395348837209303, 0.6395348837209303, 0.6395348837209303, 0.6395348837209303, 0.6395348837209303, 0.6395348837209303, 0.6395348837209303, 0.6395348837209303, 0.6395348837209303, 0.6395348837209303, 0.6395348837209303, 0.6395348837209303, 0.6395348837209303, 0.6395348837209303, 0.6395348837209303, 0.6395348837209303, 0.4957446808510638, 0.6395348837209303, 0.6395348837209303, 0.6395348837209303, 0.6395348837209303, 0.6395348837209303, 0.6395348837209303, 0.6395348837209303, 0.6395348837209303, 0.6395348837209303, 0.6395348837209303, 0.6395348837209303, 0.6395348837209303, 0.6395348837209303, 0.6395348837209303, 0.6395348837209303, 0.47303370786516863, 0.6395348837209303, 0.6395348837209303, 0.6395348837209303, 0.6395348837209303, 0.6395348837209303]\n",
      "[[2, 2, 2, 1, 1, 3, 3, 3], [2, 2, 2, 1, 1, 3, 3, 3], [2, 2, 2, 1, 1, 3, 3, 3], [2, 2, 2, 1, 1, 3, 3, 3], [2, 2, 2, 1, 1, 3, 3, 3], [2, 2, 2, 1, 1, 3, 3, 3], [2, 2, 2, 1, 1, 3, 3, 3], [2, 2, 2, 1, 1, 3, 3, 3], [2, 2, 2, 1, 1, 3, 3, 3], [2, 2, 2, 1, 1, 3, 3, 3], [2, 2, 2, 1, 1, 3, 3, 3], [2, 2, 2, 1, 1, 3, 3, 3], [2, 2, 2, 1, 1, 3, 3, 3], [2, 2, 2, 1, 1, 3, 3, 3], [2, 2, 2, 1, 1, 3, 3, 3], [2, 2, 2, 1, 1, 3, 3, 3], [2, 2, 2, 1, 1, 3, 3, 3], [2, 2, 2, 1, 1, 3, 3, 3], [2, 2, 2, 1, 1, 3, 3, 3], [2, 2, 2, 1, 1, 3, 3, 3], [2, 2, 2, 1, 1, 3, 3, 3], [2, 2, 2, 1, 1, 3, 3, 3], [2, 2, 2, 1, 1, 3, 3, 3], [2, 2, 2, 1, 1, 3, 3, 3], [2, 2, 2, 1, 1, 3, 3, 3], [2, 2, 2, 1, 1, 3, 3, 3], [2, 2, 2, 1, 1, 3, 3, 3], [2, 2, 2, 1, 1, 3, 3, 3], [2, 2, 2, 1, 1, 3, 3, 3], [2, 2, 2, 1, 1, 3, 2, 3], [2, 2, 2, 1, 1, 3, 3, 3], [2, 2, 2, 1, 1, 3, 3, 3], [2, 2, 2, 1, 1, 3, 3, 3], [2, 2, 2, 1, 1, 3, 3, 3], [2, 2, 2, 1, 1, 3, 3, 3], [2, 2, 2, 1, 1, 3, 3, 3], [2, 2, 2, 1, 1, 3, 3, 3], [2, 2, 2, 1, 1, 3, 3, 3], [2, 2, 2, 1, 1, 3, 3, 3], [2, 2, 2, 1, 1, 3, 3, 3], [2, 2, 2, 1, 1, 3, 3, 3], [2, 2, 2, 1, 1, 3, 3, 3], [2, 2, 2, 1, 1, 3, 3, 3], [2, 2, 2, 1, 1, 3, 3, 3], [2, 2, 2, 1, 1, 3, 3, 3], [2, 2, 2, 1, 1, 3, 1, 3], [2, 2, 2, 1, 1, 3, 3, 3], [2, 2, 2, 1, 1, 3, 3, 3], [2, 2, 2, 1, 1, 3, 3, 3], [2, 2, 2, 1, 1, 3, 3, 3], [2, 2, 2, 1, 1, 3, 3, 3]]\n"
     ]
    }
   ],
   "source": [
    "# Funcion general\n",
    "# nIndGen: numero de individuos por generacion\n",
    "# nGen: numero de generaciones que realizara el algoritmo\n",
    "# pMut: probabilidad de mutacion\n",
    "def genetico(nIndGen,nGen,pMut,funcion):\n",
    "    generacion = primeraGen(nIndGen)\n",
    "    while nGen > 0:\n",
    "        generacion.sort(reverse = True, key = fitness)\n",
    "        #print(generacion[0])\n",
    "        generacion = descarte(generacion)\n",
    "        children = []\n",
    "        while len(children) + len(generacion) < nIndGen:\n",
    "            parent1, parent2 = funcion(generacion)\n",
    "            child1, child2 = cruce(parent1,parent2)\n",
    "            child1 = mutacion(child1, pMut)\n",
    "            child2 = mutacion(child2, pMut)\n",
    "            children.append(child1)\n",
    "            children.append(child2)\n",
    "        generacion = generacion + children\n",
    "        nGen = nGen - 1\n",
    "    print([fitness(i) for i in generacion])\n",
    "    return(print(generacion))\n",
    "genetico(50,200,0.1,seleccion)\n",
    "#genetico(50,200,0.1,ruleta)\n"
   ]
  },
  {
   "cell_type": "code",
   "execution_count": 178,
   "metadata": {},
   "outputs": [],
   "source": [
    "\n",
    "\n"
   ]
  },
  {
   "cell_type": "code",
   "execution_count": null,
   "metadata": {},
   "outputs": [],
   "source": []
  }
 ],
 "metadata": {
  "kernelspec": {
   "display_name": "Python 3",
   "language": "python",
   "name": "python3"
  },
  "language_info": {
   "codemirror_mode": {
    "name": "ipython",
    "version": 3
   },
   "file_extension": ".py",
   "mimetype": "text/x-python",
   "name": "python",
   "nbconvert_exporter": "python",
   "pygments_lexer": "ipython3",
   "version": "3.8.1"
  }
 },
 "nbformat": 4,
 "nbformat_minor": 2
}
